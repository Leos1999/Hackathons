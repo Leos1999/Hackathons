{
  "nbformat": 4,
  "nbformat_minor": 0,
  "metadata": {
    "colab": {
      "name": "LTFS_Hackathon.ipynb",
      "version": "0.3.2",
      "provenance": [],
      "collapsed_sections": [],
      "include_colab_link": true
    },
    "kernelspec": {
      "name": "python3",
      "display_name": "Python 3"
    },
    "accelerator": "TPU"
  },
  "cells": [
    {
      "cell_type": "markdown",
      "metadata": {
        "id": "view-in-github",
        "colab_type": "text"
      },
      "source": [
        "<a href=\"https://colab.research.google.com/github/Leos1999/Hackathons/blob/master/LTFS_Hackathon.ipynb\" target=\"_parent\"><img src=\"https://colab.research.google.com/assets/colab-badge.svg\" alt=\"Open In Colab\"/></a>"
      ]
    },
    {
      "cell_type": "code",
      "metadata": {
        "id": "6hkMa-X5Jut_",
        "colab_type": "code",
        "colab": {}
      },
      "source": [
        "from google.colab import files\n",
        "uploaded = files.upload()"
      ],
      "execution_count": 0,
      "outputs": []
    },
    {
      "cell_type": "code",
      "metadata": {
        "id": "t033O2oxMd8U",
        "colab_type": "code",
        "colab": {}
      },
      "source": [
        "from zipfile import ZipFile\n",
        "f = 'train_aox2Jxw (2).zip'\n",
        "with ZipFile(f,'r') as zip:\n",
        "  zip.extractall()\n"
      ],
      "execution_count": 0,
      "outputs": []
    },
    {
      "cell_type": "code",
      "metadata": {
        "id": "0mkjNo8EMmlp",
        "colab_type": "code",
        "colab": {}
      },
      "source": [
        "import pandas as pd\n",
        "from sklearn.preprocessing import MinMaxScaler\n",
        "import numpy as np\n",
        "from keras.models import Sequential\n",
        "from keras.layers import Dense, LSTM, Dropout,BatchNormalization\n",
        "import csv\n",
        "\n",
        "data = pd.read_csv('train.csv')\n",
        "data = data.dropna()\n",
        "pro_data = data.iloc[:,[3,9,19,33,34,35,36,37,38,39,4,5,6,11,12,40]]"
      ],
      "execution_count": 0,
      "outputs": []
    },
    {
      "cell_type": "code",
      "metadata": {
        "id": "8MzX9QsxPcQR",
        "colab_type": "code",
        "outputId": "4d262dd5-9335-43c6-9d57-ff643e0e5c13",
        "colab": {
          "base_uri": "https://localhost:8080/",
          "height": 52
        }
      },
      "source": [
        "\n",
        "# X = pro_data.iloc[:,:15].values\n",
        "# y = pro_data.iloc[:,15].values\n",
        "X = pro_data.iloc[:,:16].values\n",
        "#X = np.array(X, dtype=object)\n",
        "np.random.shuffle(X)\n",
        "\n",
        "y = X[:,15]\n",
        "X = X[:,:15]\n",
        "\n",
        "for row in X:\n",
        "    string = row[7]\n",
        "    string = string.replace('yrs','')\n",
        "    string = string.replace('mon','')\n",
        "    s = string.split()\n",
        "    string = int(s[0])*12+int(s[1])\n",
        "    row[7] = string\n",
        "    string = row[8]\n",
        "    string = string.replace('yrs','')\n",
        "    string = string.replace('mon','')\n",
        "    s = string.split()\n",
        "    string = int(s[0])*12+int(s[1])\n",
        "    row[8] = string\n",
        "print(X[1])\n",
        "y[1]"
      ],
      "execution_count": 0,
      "outputs": [
        {
          "output_type": "stream",
          "text": [
            "[74.99 'Salaried' 0 0 0 0 0 0 0 0 78 16845 51 4 104]\n"
          ],
          "name": "stdout"
        },
        {
          "output_type": "execute_result",
          "data": {
            "text/plain": [
              "0"
            ]
          },
          "metadata": {
            "tags": []
          },
          "execution_count": 41
        }
      ]
    },
    {
      "cell_type": "code",
      "metadata": {
        "id": "KAdlHxcgq3HN",
        "colab_type": "code",
        "outputId": "0216cb6a-03f7-4d4e-aa17-f9a73bb5eb1f",
        "colab": {
          "base_uri": "https://localhost:8080/",
          "height": 70
        }
      },
      "source": [
        "emp = []\n",
        "e = {}\n",
        "for row in X:\n",
        "    if row[1] not in emp:\n",
        "        emp.append(row[1])\n",
        "for i in range(len(emp)):\n",
        "    e[emp[i]] = i\n",
        "print(e)\n",
        "for row in X:\n",
        "    for k,v in e.items():\n",
        "        if k==row[1]:\n",
        "            row[1]=v\n",
        "X[1000]"
      ],
      "execution_count": 0,
      "outputs": [
        {
          "output_type": "stream",
          "text": [
            "{'Self employed': 0, 'Salaried': 1}\n"
          ],
          "name": "stdout"
        },
        {
          "output_type": "execute_result",
          "data": {
            "text/plain": [
              "array([68.4, 1, 17, 0, 0, 1, 0, 5, 5, 0, 48, 15912, 45, 5, 2847],\n",
              "      dtype=object)"
            ]
          },
          "metadata": {
            "tags": []
          },
          "execution_count": 42
        }
      ]
    },
    {
      "cell_type": "code",
      "metadata": {
        "id": "UF82YQxUFGxf",
        "colab_type": "code",
        "colab": {}
      },
      "source": [
        "r10 = []\n",
        "r_10 = {}\n",
        "for row in X:\n",
        "    if row[10] not in r10:\n",
        "        r10.append(row[10])\n",
        "for i in range(len(r10)):\n",
        "    r_10[r10[i]] = i\n",
        "r11 = []\n",
        "r_11 = {}\n",
        "for row in X:\n",
        "    if row[11] not in r11:\n",
        "        r11.append(row[11])\n",
        "for i in range(len(r11)):\n",
        "    r_11[r11[i]] = i\n",
        "r12 = []\n",
        "r_12 = {}\n",
        "for row in X:\n",
        "    if row[12] not in r12:\n",
        "        r12.append(row[12])\n",
        "for i in range(len(r12)):\n",
        "    r_12[r12[i]] = i\n",
        "r13 = []\n",
        "r_13 = {}\n",
        "for row in X:\n",
        "    if row[13] not in r13:\n",
        "        r13.append(row[13])\n",
        "for i in range(len(r13)):\n",
        "    r_13[r13[i]] = i\n",
        "r14 = []\n",
        "r_14 = {}\n",
        "for row in X:\n",
        "    if row[14] not in r14:\n",
        "        r14.append(row[14])\n",
        "for i in range(len(r14)):\n",
        "    r_14[r14[i]] = i\n"
      ],
      "execution_count": 0,
      "outputs": []
    },
    {
      "cell_type": "code",
      "metadata": {
        "id": "dtJ82uhf-Cxm",
        "colab_type": "code",
        "colab": {}
      },
      "source": [
        "# from numpy import array\n",
        "# from numpy import argmax\n",
        "# from keras.utils import to_categorical\n",
        "# from sklearn.preprocessing import LabelEncoder\n",
        "# label_encoder = LabelEncoder()\n",
        "\n",
        "# #10\n",
        "# r10=[]\n",
        "# r_10={}\n",
        "# for row in X:\n",
        "#   if row[10] not in r10:\n",
        "#     r10.append(row[10])\n",
        "#   if row[11] not in r10:\n",
        "#     r10.append(row[11])\n",
        "#   if row[12] not in r10:\n",
        "#     r10.append(row[12])\n",
        "#   if row[13] not in r10:\n",
        "#     r10.append(row[13])\n",
        "#   if row[14] not in r10:\n",
        "#     r10.append(row[14])\n",
        "# a_r10 = array(r10)\n",
        "# i_r10 = label_encoder.fit_transform(a_r10)\n",
        "# e_r10 = to_categorical(i_r10,num_classes=len(r10))\n",
        "# for i in range(len(r10)):\n",
        "#   r_10[r10[i]] = list(e_r10[i])\n"
      ],
      "execution_count": 0,
      "outputs": []
    },
    {
      "cell_type": "code",
      "metadata": {
        "id": "A0eqtHFf-rQv",
        "colab_type": "code",
        "colab": {}
      },
      "source": [
        "# for row in X:\n",
        "#   for k,v in r_10.items():\n",
        "#         if k==row[10]:\n",
        "#             row[10]=v\n",
        "#             break\n",
        "#   for k,v in r_10.items():\n",
        "#         if k==row[11]:\n",
        "#             row[11]=v\n",
        "#             break\n",
        "#   for k,v in r_10.items():\n",
        "#         if k==row[12]:\n",
        "#             row[12]=v\n",
        "#             break\n",
        "#   for k,v in r_10.items():\n",
        "#         if k==row[13]:\n",
        "#             row[13]=v\n",
        "#             break\n",
        "#   for k,v in r_10.items():\n",
        "#         if k==row[14]:\n",
        "#             row[14]=v\n",
        "#             break\n"
      ],
      "execution_count": 0,
      "outputs": []
    },
    {
      "cell_type": "code",
      "metadata": {
        "id": "OJFdxXf-tyCv",
        "colab_type": "code",
        "colab": {}
      },
      "source": [
        "# from numpy import array\n",
        "# from numpy import argmax\n",
        "# from keras.utils import to_categorical\n",
        "# from sklearn.preprocessing import LabelEncoder\n",
        "# label_encoder = LabelEncoder()\n",
        "\n",
        "# #10\n",
        "# r10=[]\n",
        "# r_10={}\n",
        "# for row in X:\n",
        "#   if row[10] not in r10:\n",
        "#     r10.append(row[10]) \n",
        "# a_r10 = array(r10)\n",
        "# i_r10 = label_encoder.fit_transform(a_r10)\n",
        "# e_r10 = to_categorical(i_r10,num_classes=len(r10))\n",
        "# for i in range(len(r10)):\n",
        "#   r_10[r10[i]] = list(e_r10[i])\n",
        "# #11\n",
        "# r11=[]\n",
        "# r_11={}\n",
        "# for row in X:\n",
        "#   if row[11] not in r11:\n",
        "#     r11.append(row[11]) \n",
        "# a_r11 = array(r11)\n",
        "# i_r11 = label_encoder.fit_transform(a_r11)\n",
        "# e_r11 = to_categorical(i_r11,num_classes=len(r11))\n",
        "# for i in range(len(r11)):\n",
        "#   r_11[r11[i]] = list(e_r11[i])\n",
        "# #12\n",
        "# r12=[]\n",
        "# r_12={}\n",
        "# for row in X:\n",
        "#   if row[12] not in r12:\n",
        "#     r12.append(row[12]) \n",
        "# a_r12 = array(r12)\n",
        "# i_r12 = label_encoder.fit_transform(a_r12)\n",
        "# e_r12 = to_categorical(i_r12,num_classes=len(r12))\n",
        "# for i in range(len(r12)):\n",
        "#   r_12[r12[i]] = list(e_r12[i])\n",
        "# #13\n",
        "# r13=[]\n",
        "# r_13={}\n",
        "# for row in X:\n",
        "#   if row[13] not in r13:\n",
        "#     r13.append(row[13]) \n",
        "# a_r13 = array(r13)\n",
        "# i_r13 = label_encoder.fit_transform(a_r13)\n",
        "# e_r13 = to_categorical(i_r13,num_classes=len(r13))\n",
        "# for i in range(len(r13)):\n",
        "#   r_13[r13[i]] = list(e_r13[i])\n",
        "# #14\n",
        "# r14=[]\n",
        "# r_14={}\n",
        "# for row in X:\n",
        "#   if row[14] not in r14:\n",
        "#     r14.append(row[14]) \n",
        "# a_r14 = array(r14)\n",
        "# i_r14 = label_encoder.fit_transform(a_r14)\n",
        "# e_r14 = to_categorical(i_r14,num_classes=len(r14))\n",
        "# for i in range(len(r14)):\n",
        "#   r_14[r14[i]] = list(e_r14[i])\n",
        "\n",
        "# r_11"
      ],
      "execution_count": 0,
      "outputs": []
    },
    {
      "cell_type": "code",
      "metadata": {
        "id": "4t3rsQvCC1VF",
        "colab_type": "code",
        "colab": {}
      },
      "source": [
        "for row in X:\n",
        "  for k,v in r_10.items():\n",
        "        if k==row[10]:\n",
        "            row[10]=v\n",
        "            break\n",
        "  for k,v in r_11.items():\n",
        "        if k==row[11]:\n",
        "            row[11]=v\n",
        "            break\n"
      ],
      "execution_count": 0,
      "outputs": []
    },
    {
      "cell_type": "code",
      "metadata": {
        "id": "V9QPpeIcIrHl",
        "colab_type": "code",
        "colab": {}
      },
      "source": [
        "for row in X:\n",
        "  for k,v in r_12.items():\n",
        "        if k==row[12]:\n",
        "            row[12]=v\n",
        "            break\n",
        "  for k,v in r_13.items():\n",
        "        if k==row[13]:\n",
        "            row[13]=v\n",
        "            break\n",
        "  for k,v in r_14.items():\n",
        "        if k==row[14]:\n",
        "            row[14]=v\n",
        "            break\n"
      ],
      "execution_count": 0,
      "outputs": []
    },
    {
      "cell_type": "code",
      "metadata": {
        "id": "lzUtgrPr1P2S",
        "colab_type": "code",
        "outputId": "15509014-ac54-4af3-ef03-95ed9b735b67",
        "colab": {
          "base_uri": "https://localhost:8080/",
          "height": 107
        }
      },
      "source": [
        "normalizer = MinMaxScaler(feature_range = (0,1))\n",
        "x = X[:,0]\n",
        "x = x.reshape(-1,1)\n",
        "x = normalizer.fit_transform(x)\n",
        "y = y.reshape(-1,1)\n",
        "#y_norm = normalizer.fit_transform(y)\n",
        "from keras.utils import np_utils \n",
        "nb_classes = 2\n",
        "y_norm = np_utils.to_categorical(y, nb_classes) \n",
        "#y_norm[2,:]\n",
        "for i in range(len(X)):\n",
        "  X[i,0] = float(x[i])\n",
        "  \n",
        "X[10]"
      ],
      "execution_count": 0,
      "outputs": [
        {
          "output_type": "stream",
          "text": [
            "/usr/local/lib/python3.6/dist-packages/sklearn/utils/validation.py:595: DataConversionWarning: Data with input dtype object was converted to float64 by MinMaxScaler.\n",
            "  warnings.warn(msg, DataConversionWarning)\n"
          ],
          "name": "stderr"
        },
        {
          "output_type": "execute_result",
          "data": {
            "text/plain": [
              "array([0.7838036809815953, 1, 708, 4815, 0, 1, 0, 7, 11, 0, 9, 10, 4, 7,\n",
              "       10], dtype=object)"
            ]
          },
          "metadata": {
            "tags": []
          },
          "execution_count": 47
        }
      ]
    },
    {
      "cell_type": "code",
      "metadata": {
        "id": "rOi8Nhzr1zRm",
        "colab_type": "code",
        "colab": {}
      },
      "source": [
        "pre_X = []\n",
        "pre_y = []\n",
        "for i in range(10,len(y)):\n",
        "  pre_X.append(X_norm[i-10:i,:])\n",
        "  pre_y.append(y_norm[i,:])\n",
        "\n",
        "pre_X = np.array(pre_X)\n",
        "pre_y = np.array(pre_y)"
      ],
      "execution_count": 0,
      "outputs": []
    },
    {
      "cell_type": "markdown",
      "metadata": {
        "id": "3I4vDe3mCcpe",
        "colab_type": "text"
      },
      "source": [
        "model = Sequential()\n",
        "model.add(Dense(100,input_dim=10,kernel_initializer = 'normal',activation='relu'))\n",
        "model.add(Dropout(0.3))\n",
        "model.add(Dense(100,kernel_initializer = 'normal',activation='relu'))\n",
        "model.add(Dropout(0.2))\n",
        "model.add(Dense(90,kernel_initializer = 'normal',activation='relu'))\n",
        "model.add(Dropout(0.2))\n",
        "model.add(Dense(70,kernel_initializer = 'normal',activation='relu'))\n",
        "model.add(Dense(1,kernel_initializer = 'normal',activation='sigmoid'))\n",
        "model.compile(optimizer='adam',loss = 'binary_crossentropy',metrics = ['accuracy'])\n",
        "\n",
        "model.fit(X_norm,y_norm,epochs=10,batch_size=100)"
      ]
    },
    {
      "cell_type": "code",
      "metadata": {
        "id": "YjyjRbra1vOl",
        "colab_type": "code",
        "colab": {}
      },
      "source": [
        "# model = Sequential()\n",
        "# model.add(LSTM(units = 100,return_sequences=True,input_shape = (pre_X.shape[1],10)))\n",
        "# model.add(Dropout(0.3))\n",
        "# model.add(LSTM(units = 70,return_sequences=True))\n",
        "# model.add(Dropout(0.2))\n",
        "# model.add(LSTM(units = 70,return_sequences=True))\n",
        "# model.add(Dropout(0.2))\n",
        "# model.add(LSTM(units = 70))\n",
        "# model.add(Dropout(0.2))\n",
        "# model.add(Dense(units=2,activation='sigmoid'))\n",
        "# model.compile(optimizer='adam',loss = 'categorical_crossentropy',metrics = ['accuracy'])\n",
        "\n",
        "# model.fit(pre_X,pre_y,epochs=2,batch_size=100)\n",
        " \n",
        "\n",
        "model = Sequential()\n",
        "model.add(BatchNormalization())\n",
        "model.add(Dense(200,input_dim=15,kernel_initializer = 'normal',activation='relu'))\n",
        "model.add(Dropout(0.3))\n",
        "model.add(Dense(200,kernel_initializer = 'normal',activation='relu'))\n",
        "model.add(Dropout(0.2))\n",
        "model.add(Dense(100,kernel_initializer = 'normal',activation='relu'))\n",
        "model.add(Dropout(0.2))\n",
        "model.add(Dense(60,kernel_initializer = 'normal',activation='relu'))\n",
        "model.add(Dropout(0.2))\n",
        "model.add(Dense(30,kernel_initializer = 'normal',activation='relu'))\n",
        "model.add(Dropout(0.2))\n",
        "model.add(Dense(2,kernel_initializer = 'normal',activation='sigmoid'))\n",
        "model.compile(optimizer='adam',loss = 'categorical_crossentropy',metrics = ['accuracy'])\n",
        "\n",
        "model.fit(X,y_norm,epochs=20,batch_size=50)"
      ],
      "execution_count": 0,
      "outputs": []
    },
    {
      "cell_type": "code",
      "metadata": {
        "id": "54RzUHuhFXz8",
        "colab_type": "code",
        "colab": {}
      },
      "source": [
        "from google.colab import files\n",
        "uploaded = files.upload()"
      ],
      "execution_count": 0,
      "outputs": []
    },
    {
      "cell_type": "code",
      "metadata": {
        "id": "qB1QwD5d51TN",
        "colab_type": "code",
        "outputId": "279e56bd-1dc5-4439-ab45-32dcd4b4d594",
        "colab": {
          "base_uri": "https://localhost:8080/",
          "height": 105
        }
      },
      "source": [
        "data = pd.read_csv('test_bqCt9Pv.csv')\n",
        "print(len(data))\n",
        "data = data.fillna(0)\n",
        "print(len(data))\n",
        "p_data = data.iloc[:,[3,9,19,33,34,35,36,37,38,39,4,5,6,11,12]]\n",
        "print(len(p_data))\n",
        "X_test = p_data.iloc[:,:15].values\n",
        "X_test[0]"
      ],
      "execution_count": 0,
      "outputs": [
        {
          "output_type": "stream",
          "text": [
            "112392\n",
            "112392\n",
            "112392\n"
          ],
          "name": "stdout"
        },
        {
          "output_type": "execute_result",
          "data": {
            "text/plain": [
              "array([86.54, 'Salaried', 0, 0, 0, 0, 0, '0yrs 0mon', '0yrs 0mon', 0, 67,\n",
              "       22807, 45, 6, 1998], dtype=object)"
            ]
          },
          "metadata": {
            "tags": []
          },
          "execution_count": 63
        }
      ]
    },
    {
      "cell_type": "code",
      "metadata": {
        "id": "O2gm8zE1AIxf",
        "colab_type": "code",
        "colab": {}
      },
      "source": [
        "for row in X_test:\n",
        "    string = row[7]\n",
        "    string = string.replace('yrs','')\n",
        "    string = string.replace('mon','')\n",
        "    s = string.split()\n",
        "    string = int(s[0])*12+int(s[1])\n",
        "    row[7] = string\n",
        "    string = row[8]\n",
        "    string = string.replace('yrs','')\n",
        "    string = string.replace('mon','')\n",
        "    s = string.split()\n",
        "    string = int(s[0])*12+int(s[1])\n",
        "    row[8] = string"
      ],
      "execution_count": 0,
      "outputs": []
    },
    {
      "cell_type": "code",
      "metadata": {
        "id": "-USvIs2PNfpx",
        "colab_type": "code",
        "colab": {}
      },
      "source": [
        "for row in X_test:\n",
        "  for k,v in r_10.items():\n",
        "        if k==row[10]:\n",
        "            row[10]=v\n",
        "            break\n",
        "  for k,v in r_11.items():\n",
        "        if k==row[11]:\n",
        "            row[11]=v\n",
        "            break\n"
      ],
      "execution_count": 0,
      "outputs": []
    },
    {
      "cell_type": "code",
      "metadata": {
        "id": "xFVfge-_NYIU",
        "colab_type": "code",
        "colab": {}
      },
      "source": [
        "for row in X_test:\n",
        "  for k,v in r_12.items():\n",
        "        if k==row[12]:\n",
        "            row[12]=v\n",
        "            break\n",
        "  for k,v in r_13.items():\n",
        "        if k==row[13]:\n",
        "            row[13]=v\n",
        "            break\n",
        "  for k,v in r_14.items():\n",
        "        if k==row[14]:\n",
        "            row[14]=v\n",
        "            break\n"
      ],
      "execution_count": 0,
      "outputs": []
    },
    {
      "cell_type": "code",
      "metadata": {
        "id": "zp1V1dOdCcw3",
        "colab_type": "code",
        "outputId": "ee9c2ee6-7744-4e9e-f7f3-8c273adf4f34",
        "colab": {
          "base_uri": "https://localhost:8080/",
          "height": 160
        }
      },
      "source": [
        "print(e)\n",
        "for row in X_test:\n",
        "    for k,v in e.items():\n",
        "        if k==row[1]:\n",
        "            row[1]=v\n",
        "X_test_norm = normalizer.fit_transform(X_test)\n",
        "\n",
        "x = X_test[:,0]\n",
        "x = x.reshape(-1,1)\n",
        "x = normalizer.fit_transform(x)\n",
        "for i in range(len(X_test)):\n",
        "  X_test[i,0] = float(x[i])\n",
        "\n",
        "\n",
        "X_test[0]"
      ],
      "execution_count": 0,
      "outputs": [
        {
          "output_type": "stream",
          "text": [
            "{'Self employed': 0, 'Salaried': 1}\n"
          ],
          "name": "stdout"
        },
        {
          "output_type": "stream",
          "text": [
            "/usr/local/lib/python3.6/dist-packages/sklearn/utils/validation.py:595: DataConversionWarning: Data with input dtype object was converted to float64 by MinMaxScaler.\n",
            "  warnings.warn(msg, DataConversionWarning)\n",
            "/usr/local/lib/python3.6/dist-packages/sklearn/utils/validation.py:595: DataConversionWarning: Data with input dtype object was converted to float64 by MinMaxScaler.\n",
            "  warnings.warn(msg, DataConversionWarning)\n"
          ],
          "name": "stderr"
        },
        {
          "output_type": "execute_result",
          "data": {
            "text/plain": [
              "array([0.9004354478051078, 1, 0, 0, 0, 0, 0, 0, 0, 0, 9, 508, 4, 7, 608],\n",
              "      dtype=object)"
            ]
          },
          "metadata": {
            "tags": []
          },
          "execution_count": 69
        }
      ]
    },
    {
      "cell_type": "code",
      "metadata": {
        "id": "M0SAtekrFBF_",
        "colab_type": "code",
        "colab": {}
      },
      "source": [
        "pre_X_test = []\n",
        "for i in range(10,len(X_test)):\n",
        "  pre_X_test.append(X_test_norm[i-10:i,:])\n",
        "\n",
        "pre_X_test = np.array(pre_X_test)"
      ],
      "execution_count": 0,
      "outputs": []
    },
    {
      "cell_type": "code",
      "metadata": {
        "id": "6-ULrs37FW9Q",
        "colab_type": "code",
        "colab": {}
      },
      "source": [
        "y_predict = model.predict(X_test)\n",
        "#y_predict = normalizer.inverse_transform(y_predict)"
      ],
      "execution_count": 0,
      "outputs": []
    },
    {
      "cell_type": "code",
      "metadata": {
        "id": "N0LTsJU_HYTc",
        "colab_type": "code",
        "outputId": "b133e1c8-9d0f-4758-dbb1-aa0dcc4eebb8",
        "colab": {
          "base_uri": "https://localhost:8080/",
          "height": 52
        }
      },
      "source": [
        "\n",
        "print(y_predict[0])\n",
        "pre_dict = np.argmax(y_predict,axis=1)\n",
        "len(pre_dict)"
      ],
      "execution_count": 0,
      "outputs": [
        {
          "output_type": "stream",
          "text": [
            "[0.5836658  0.22917137]\n"
          ],
          "name": "stdout"
        },
        {
          "output_type": "execute_result",
          "data": {
            "text/plain": [
              "112392"
            ]
          },
          "metadata": {
            "tags": []
          },
          "execution_count": 82
        }
      ]
    },
    {
      "cell_type": "code",
      "metadata": {
        "id": "qLTGuV8TnJ0z",
        "colab_type": "code",
        "colab": {}
      },
      "source": [
        "for row in pre_dict:\n",
        "  if row != 0:\n",
        "    print(row)"
      ],
      "execution_count": 0,
      "outputs": []
    },
    {
      "cell_type": "code",
      "metadata": {
        "id": "2w3CoecnQ7V-",
        "colab_type": "code",
        "colab": {}
      },
      "source": [
        "out =[]\n",
        "for i in range(len(pre_dict)):\n",
        "  out.append([data.iloc[i,0],pre_dict[i]])"
      ],
      "execution_count": 0,
      "outputs": []
    },
    {
      "cell_type": "code",
      "metadata": {
        "id": "ftjXOeBfPNVJ",
        "colab_type": "code",
        "outputId": "b9933ba0-ca59-404d-d62a-f1b3ee34dcc4",
        "colab": {
          "base_uri": "https://localhost:8080/",
          "height": 34
        }
      },
      "source": [
        "out[100]"
      ],
      "execution_count": 0,
      "outputs": [
        {
          "output_type": "execute_result",
          "data": {
            "text/plain": [
              "[756908, 0]"
            ]
          },
          "metadata": {
            "tags": []
          },
          "execution_count": 81
        }
      ]
    },
    {
      "cell_type": "code",
      "metadata": {
        "id": "7yxcxPzETTfj",
        "colab_type": "code",
        "colab": {}
      },
      "source": [
        "\n",
        "with open('sub1.csv', 'w') as csvFile:\n",
        "    writer = csv.writer(csvFile)\n",
        "    writer.writerow(['UniqueID','loan_default'])\n",
        "\n",
        "csvFile.close()"
      ],
      "execution_count": 0,
      "outputs": []
    },
    {
      "cell_type": "code",
      "metadata": {
        "id": "_8d-wK1LMdbD",
        "colab_type": "code",
        "colab": {}
      },
      "source": [
        "\n",
        "with open('sub1.csv', 'a') as csvFile:\n",
        "    writer = csv.writer(csvFile)\n",
        "    writer.writerows(out)\n",
        "\n",
        "csvFile.close()"
      ],
      "execution_count": 0,
      "outputs": []
    },
    {
      "cell_type": "code",
      "metadata": {
        "id": "NtkB_zEw5pbF",
        "colab_type": "code",
        "colab": {}
      },
      "source": [
        "from sklearn.model_selection import train_test_split\n",
        "train_X, test_X, train_y, test_y = train_test_split(X,y,test_size = 0.20, random_state = 42)"
      ],
      "execution_count": 0,
      "outputs": []
    },
    {
      "cell_type": "code",
      "metadata": {
        "id": "SKZTVLXX6Ofz",
        "colab_type": "code",
        "colab": {}
      },
      "source": [
        "from sklearn.ensemble import RandomForestRegressor\n",
        "rf = RandomForestRegressor(n_estimators = 1000, random_state = 42,verbose=2,n_jobs=-1)\n",
        "rf.fit(train_X, train_y)"
      ],
      "execution_count": 0,
      "outputs": []
    },
    {
      "cell_type": "code",
      "metadata": {
        "id": "9EgRRwwL6nx3",
        "colab_type": "code",
        "colab": {}
      },
      "source": [
        "predictions = rf.predict(test_X)\n",
        "# Calculate the absolute errors\n",
        "#errors = abs(predictions - test_y)\n",
        "#print('Mean Absolute Error:', round(np.mean(errors), 2), 'degrees.')\n",
        "#mape = 100 * (errors / test_y)\n",
        "# Calculate and display accuracy\n",
        "#accuracy = 100 - np.mean(mape)\n",
        "#print('Accuracy:', round(accuracy, 2), '%.')"
      ],
      "execution_count": 0,
      "outputs": []
    },
    {
      "cell_type": "code",
      "metadata": {
        "id": "tRRVk_A9CVZc",
        "colab_type": "code",
        "colab": {}
      },
      "source": [
        "pre = rf.predict(X_test_norm)"
      ],
      "execution_count": 0,
      "outputs": []
    },
    {
      "cell_type": "code",
      "metadata": {
        "id": "qQJUnjN3LW5C",
        "colab_type": "code",
        "colab": {}
      },
      "source": [
        "pre_out = []\n",
        "for i in range(len(pre)):\n",
        "  if pre[i] < 0.5:\n",
        "    pre_out.append([data.iloc[i,0],0])\n",
        "  else:\n",
        "    pre_out.append([data.iloc[i,0],1])"
      ],
      "execution_count": 0,
      "outputs": []
    },
    {
      "cell_type": "code",
      "metadata": {
        "id": "rZhGLBlZMN3O",
        "colab_type": "code",
        "colab": {}
      },
      "source": [
        "\n",
        "with open('sub5.csv', 'w') as csvFile:\n",
        "    writer = csv.writer(csvFile)\n",
        "    writer.writerow(['UniqueID','loan_default'])\n",
        "\n",
        "csvFile.close()\n",
        "\n",
        "with open('sub5.csv', 'a') as csvFile:\n",
        "    writer = csv.writer(csvFile)\n",
        "    writer.writerows(pre_out)\n",
        "\n",
        "csvFile.close()"
      ],
      "execution_count": 0,
      "outputs": []
    }
  ]
}