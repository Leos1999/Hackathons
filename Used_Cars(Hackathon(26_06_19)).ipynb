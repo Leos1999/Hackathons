{
  "nbformat": 4,
  "nbformat_minor": 0,
  "metadata": {
    "colab": {
      "name": "Used_Cars(Hackathon(26-06-19)).ipynb",
      "version": "0.3.2",
      "provenance": [],
      "collapsed_sections": [],
      "include_colab_link": true
    },
    "kernelspec": {
      "name": "python3",
      "display_name": "Python 3"
    }
  },
  "cells": [
    {
      "cell_type": "markdown",
      "metadata": {
        "id": "view-in-github",
        "colab_type": "text"
      },
      "source": [
        "<a href=\"https://colab.research.google.com/github/Leos1999/Hackathons/blob/master/Used_Cars(Hackathon(26_06_19)).ipynb\" target=\"_parent\"><img src=\"https://colab.research.google.com/assets/colab-badge.svg\" alt=\"Open In Colab\"/></a>"
      ]
    },
    {
      "cell_type": "code",
      "metadata": {
        "id": "lZ8uqTT7fpZf",
        "colab_type": "code",
        "colab": {
          "base_uri": "https://localhost:8080/",
          "height": 124
        },
        "outputId": "fcf89f32-90d6-46cb-b98f-cb1cb5ec9cce"
      },
      "source": [
        "# Run this cell to mount your Google Drive.\n",
        "from google.colab import drive\n",
        "drive.mount('/content/drive')"
      ],
      "execution_count": 2,
      "outputs": [
        {
          "output_type": "stream",
          "text": [
            "Go to this URL in a browser: https://accounts.google.com/o/oauth2/auth?client_id=947318989803-6bn6qk8qdgf4n4g3pfee6491hc0brc4i.apps.googleusercontent.com&redirect_uri=urn%3Aietf%3Awg%3Aoauth%3A2.0%3Aoob&scope=email%20https%3A%2F%2Fwww.googleapis.com%2Fauth%2Fdocs.test%20https%3A%2F%2Fwww.googleapis.com%2Fauth%2Fdrive%20https%3A%2F%2Fwww.googleapis.com%2Fauth%2Fdrive.photos.readonly%20https%3A%2F%2Fwww.googleapis.com%2Fauth%2Fpeopleapi.readonly&response_type=code\n",
            "\n",
            "Enter your authorization code:\n",
            "··········\n",
            "Mounted at /content/drive\n"
          ],
          "name": "stdout"
        }
      ]
    },
    {
      "cell_type": "code",
      "metadata": {
        "id": "glMpEOsBY6VA",
        "colab_type": "code",
        "colab": {}
      },
      "source": [
        "from zipfile import ZipFile\n",
        "f = 'drive/My Drive/Datasets/Participants_Data_Used_Cars.zip'\n",
        "with ZipFile(f,'r') as zip:\n",
        "  zip.extractall()"
      ],
      "execution_count": 0,
      "outputs": []
    },
    {
      "cell_type": "code",
      "metadata": {
        "id": "ezrAvt8RbAw4",
        "colab_type": "code",
        "colab": {}
      },
      "source": [
        "import pandas as pd\n",
        "df = pd.read_excel('Participants_Data_Used_Cars/Data_Train.xlsx')"
      ],
      "execution_count": 0,
      "outputs": []
    },
    {
      "cell_type": "code",
      "metadata": {
        "id": "MMnqx_ZocJ9y",
        "colab_type": "code",
        "outputId": "25dc90b6-2225-4755-978e-6d3b5dd1ebd3",
        "colab": {
          "base_uri": "https://localhost:8080/",
          "height": 34
        }
      },
      "source": [
        "df.head()\n",
        "print(len(df.values[:,:]))\n",
        "df = df.fillna(0)"
      ],
      "execution_count": 113,
      "outputs": [
        {
          "output_type": "stream",
          "text": [
            "6019\n"
          ],
          "name": "stdout"
        }
      ]
    },
    {
      "cell_type": "code",
      "metadata": {
        "id": "mbKOd9K5ea2i",
        "colab_type": "code",
        "colab": {}
      },
      "source": [
        ""
      ],
      "execution_count": 0,
      "outputs": []
    },
    {
      "cell_type": "code",
      "metadata": {
        "id": "j7-Y9WxgcMBv",
        "colab_type": "code",
        "outputId": "a3a902d1-3932-421f-c812-92884c2ce5c6",
        "colab": {
          "base_uri": "https://localhost:8080/",
          "height": 54
        }
      },
      "source": [
        "loc= df.values[:,1]\n",
        "loc_ = []\n",
        "for i in range(len(df.values[0,:])):\n",
        "  _loc_= []\n",
        "  for j in df.values[:,i]:\n",
        "    if j not in _loc_:\n",
        "      _loc_.append(j)\n",
        "  loc_.append(_loc_)\n",
        "print(loc_[9])"
      ],
      "execution_count": 114,
      "outputs": [
        {
          "output_type": "stream",
          "text": [
            "['58.16 bhp', '126.2 bhp', '88.7 bhp', '88.76 bhp', '140.8 bhp', '55.2 bhp', '63.1 bhp', '171.5 bhp', '103.6 bhp', '74 bhp', '103.25 bhp', '116.3 bhp', '187.7 bhp', '115 bhp', '175.56 bhp', '98.6 bhp', '83.8 bhp', '167.62 bhp', '190 bhp', '88.5 bhp', '177.01 bhp', '80 bhp', '67.1 bhp', '102 bhp', '108.45 bhp', '138.1 bhp', '184 bhp', '179.5 bhp', '103.5 bhp', '64 bhp', '82 bhp', '254.8 bhp', '73.9 bhp', '46.3 bhp', '37.5 bhp', '77 bhp', '82.9 bhp', '149.92 bhp', '138.03 bhp', '112.2 bhp', '163.7 bhp', '71 bhp', '105 bhp', '174.33 bhp', '75 bhp', '103.2 bhp', '53.3 bhp', '78.9 bhp', '147.6 bhp', '147.8 bhp', '68 bhp', '186 bhp', '170 bhp', '69 bhp', '140 bhp', '78 bhp', '194 bhp', '500 bhp', '108.5 bhp', '86.8 bhp', '187.74 bhp', 'null bhp', '132 bhp', '86.7 bhp', '73.94 bhp', '117.3 bhp', '218 bhp', '168.5 bhp', '89.84 bhp', '110 bhp', '90 bhp', '82.85 bhp', '67 bhp', '241.4 bhp', '35 bhp', '270.9 bhp', '126.32 bhp', '73 bhp', '130 bhp', '100.6 bhp', '150 bhp', '75.94 bhp', '215 bhp', '107.3 bhp', '37.48 bhp', '120 bhp', '178 bhp', '152 bhp', '91.1 bhp', '85.80 bhp', '362.07 bhp', '121.3 bhp', '143 bhp', '81.80 bhp', '171 bhp', '76.8 bhp', '103.52 bhp', '444 bhp', '362.9 bhp', '67.06 bhp', '120.7 bhp', '258 bhp', '81.86 bhp', '112 bhp', '88.73 bhp', '57.6 bhp', '157.75 bhp', '102.5 bhp', '201.1 bhp', '83.1 bhp', '68.05 bhp', '88.50 bhp', 0, '106 bhp', '100 bhp', '81.83 bhp', '85 bhp', '64.1 bhp', '177.5 bhp', '246.7 bhp', '177.46 bhp', '65 bhp', '67.04 bhp', '189.08 bhp', '99 bhp', '53.5 bhp', '194.3 bhp', '70 bhp', '183 bhp', '254.79 bhp', '66.1 bhp', '76 bhp', '60 bhp', '123.24 bhp', '47.3 bhp', '118 bhp', '88.8 bhp', '177 bhp', '136 bhp', '201.15 bhp', '93.7 bhp', '177.6 bhp', '313 bhp', '245 bhp', '125 bhp', '141 bhp', '227 bhp', '62 bhp', '141.1 bhp', '83.14 bhp', '192 bhp', '67.05 bhp', '47 bhp', '235 bhp', '37 bhp', '87.2 bhp', '203 bhp', '204 bhp', '246.74 bhp', '122 bhp', '282 bhp', '181 bhp', '224 bhp', '94 bhp', '367 bhp', '98.79 bhp', '62.1 bhp', '174.3 bhp', '114 bhp', '335.2 bhp', '169 bhp', '191.34 bhp', '108.49 bhp', '138.02 bhp', '156 bhp', '187.4 bhp', '66 bhp', '103.3 bhp', '164.7 bhp', '79.4 bhp', '198.5 bhp', '154 bhp', '73.8 bhp', '181.43 bhp', '85.8 bhp', '207.8 bhp', '108.4 bhp', '88 bhp', '63 bhp', '82.5 bhp', '364.9 bhp', '107.2 bhp', '113.98 bhp', '126.3 bhp', '185 bhp', '237.4 bhp', '99.6 bhp', '66.7 bhp', '160 bhp', '306 bhp', '98.59 bhp', '92.7 bhp', '147.51 bhp', '197.2 bhp', '167.6 bhp', '165 bhp', '110.4 bhp', '73.97 bhp', '147.9 bhp', '116.6 bhp', '148 bhp', '34.2 bhp', '155 bhp', '197 bhp', '108.62 bhp', '118.3 bhp', '38.4 bhp', '241.38 bhp', '153.86 bhp', '163.5 bhp', '226.6 bhp', '84.8 bhp', '53.64 bhp', '158.2 bhp', '69.01 bhp', '181.03 bhp', '58.2 bhp', '104.68 bhp', '126.24 bhp', '73.75 bhp', '158 bhp', '130.2 bhp', '57.5 bhp', '97.7 bhp', '121.4 bhp', '98.96 bhp', '174.5 bhp', '308 bhp', '121.36 bhp', '138 bhp', '265 bhp', '84 bhp', '321 bhp', '91.72 bhp', '65.3 bhp', '88.2 bhp', '93 bhp', '35.5 bhp', '86.79 bhp', '157.7 bhp', '40.3 bhp', '91.7 bhp', '180 bhp', '114.4 bhp', '158.8 bhp', '157.8 bhp', '123.7 bhp', '56.3 bhp', '189 bhp', '104 bhp', '210 bhp', '270.88 bhp', '142 bhp', '255 bhp', '236 bhp', '167.7 bhp', '148.31 bhp', '80.46 bhp', '138.08 bhp', '250 bhp', '74.9 bhp', '91.2 bhp', '102.57 bhp', '97.6 bhp', '102.53 bhp', '240 bhp', '254 bhp', '112.4 bhp', '73.74 bhp', '108.495 bhp', '116.9 bhp', '101 bhp', '320 bhp', '70.02 bhp', '261.49 bhp', '105.5 bhp', '550 bhp', '168.7 bhp', '55.23 bhp', '94.68 bhp', '152.88 bhp', '163.2 bhp', '203.2 bhp', '241 bhp', '95 bhp', '200 bhp', '271.23 bhp', '63.12 bhp', '85.7 bhp', '308.43 bhp', '118.6 bhp', '199.3 bhp', '83.83 bhp', '55 bhp', '83 bhp', '300 bhp', '201 bhp', '262.6 bhp', '163 bhp', '58.33 bhp', '86.76 bhp', '76.9 bhp', '174.57 bhp', '301.73 bhp', '68.1 bhp', '162 bhp', '394.3 bhp', '80.9 bhp', '147.5 bhp', '272 bhp', '340 bhp', '120.33 bhp', '82.4 bhp', '231.1 bhp', '335.3 bhp', '333 bhp', '198.25 bhp', '224.34 bhp', '402 bhp', '261 bhp', '61 bhp', '144 bhp', '71.01 bhp', '271.72 bhp', '134 bhp', '135.1 bhp', '92 bhp', '64.08 bhp', '261.5 bhp', '123.37 bhp', '175.67 bhp', '53 bhp', '110.5 bhp', '178.4 bhp', '193.1 bhp', '41 bhp', '395 bhp', '48.21 bhp', '450 bhp', '421 bhp', '89.75 bhp', '387.3 bhp', '130.3 bhp', '281.61 bhp', '52.8 bhp', '139.01 bhp', '208 bhp', '503 bhp', '168 bhp', '98.82 bhp', '139.07 bhp', '83.11 bhp', '74.93 bhp', '382 bhp', '74.96 bhp', '552 bhp', '127 bhp', '560 bhp', '116.4 bhp', '161.6 bhp', '488.1 bhp', '103 bhp', '181.04 bhp']\n"
          ],
          "name": "stdout"
        }
      ]
    },
    {
      "cell_type": "code",
      "metadata": {
        "id": "aSsf79jQhpUI",
        "colab_type": "code",
        "colab": {}
      },
      "source": [
        "k=0\n",
        "c = {}\n",
        "for i in loc_:\n",
        "  c1 = {}\n",
        "  count=1\n",
        "  for j in i:\n",
        "    c1[j] = count\n",
        "    count+=1\n",
        "  c[k] = c1 \n",
        "  k+=1"
      ],
      "execution_count": 0,
      "outputs": []
    },
    {
      "cell_type": "code",
      "metadata": {
        "id": "U95GDIKDx34E",
        "colab_type": "code",
        "colab": {}
      },
      "source": [
        "for i in range(len(df.values[:])):\n",
        "  mileage = df.iloc[i,7]\n",
        "  if mileage != 0.0:\n",
        "    mileage = mileage.replace(\"kmpl\",\"\")\n",
        "    mileage = mileage.replace(\"km/kg\",\"\")\n",
        "  df.iat[i,7] = float(mileage)\n",
        "  engine = df.iloc[i,8]\n",
        "  if engine != 0:\n",
        "    engine = engine.replace(\"CC\",\"\")\n",
        "  df.iat[i,8] = int(engine)\n",
        "  power = df.iloc[i,9]\n",
        "  if power != 0:\n",
        "    power = power.replace(\"bhp\",\"\")\n",
        "  try:\n",
        "    df.iat[i,9] = float(power)\n",
        "  except:\n",
        "    power = 0.0\n",
        "    df.iat[i,9] = power\n",
        "  np = df.iloc[i,11]\n",
        "  if np != 0:\n",
        "    np = np.replace(\"Lakh\",\"\")\n",
        "    np = np.replace(\"Cr\",\"\")\n",
        "  df.iat[i,11] = float(np)"
      ],
      "execution_count": 0,
      "outputs": []
    },
    {
      "cell_type": "code",
      "metadata": {
        "id": "q1k5uujn2dnu",
        "colab_type": "code",
        "colab": {
          "base_uri": "https://localhost:8080/",
          "height": 34
        },
        "outputId": "478b2221-c495-4c1d-a987-4caae87d2ab4"
      },
      "source": [
        "for i in range(len(df.values[:])):\n",
        "  c0 = df.iloc[i,0]\n",
        "  if c0 in c[0].keys():\n",
        "    df.iat[i,0] = c[0][c0]  \n",
        "  c1 = df.iloc[i,1]\n",
        "  if c1 in c[1].keys():\n",
        "    df.iat[i,1] = c[1][c1]  \n",
        "  c4 = df.iloc[i,4]\n",
        "  if c4 in c[4].keys():\n",
        "    df.iat[i,4] = c[4][c4]  \n",
        "  c5 = df.iloc[i,5]\n",
        "  if c5 in c[5].keys():\n",
        "    df.iat[i,5] = c[5][c5]  \n",
        "  c6 = df.iloc[i,6]\n",
        "  if c6 in c[6].keys():\n",
        "    df.iat[i,6] = c[6][c6]  \n",
        "  \n",
        "print(df.values[30:40,6])\n",
        "  "
      ],
      "execution_count": 117,
      "outputs": [
        {
          "output_type": "stream",
          "text": [
            "[1 1 2 1 2 2 1 1 1 1]\n"
          ],
          "name": "stdout"
        }
      ]
    },
    {
      "cell_type": "code",
      "metadata": {
        "id": "1qzK9CbX5zaR",
        "colab_type": "code",
        "colab": {
          "base_uri": "https://localhost:8080/",
          "height": 207
        },
        "outputId": "76393c66-0e08-46af-fec3-f47ae32ad15e"
      },
      "source": [
        "df.values[0:10,:]"
      ],
      "execution_count": 118,
      "outputs": [
        {
          "output_type": "execute_result",
          "data": {
            "text/plain": [
              "array([[1, 1, 2010, 72000, 1, 1, 1, 26.6, 998, 58.16, 5.0, 0.0, 1.75],\n",
              "       [2, 2, 2015, 41000, 2, 1, 1, 19.67, 1582, 126.2, 5.0, 0.0, 12.5],\n",
              "       [3, 3, 2011, 46000, 3, 1, 1, 18.2, 1199, 88.7, 5.0, 8.61, 4.5],\n",
              "       [4, 3, 2012, 87000, 2, 1, 1, 20.77, 1248, 88.76, 7.0, 0.0, 6.0],\n",
              "       [5, 4, 2013, 40670, 2, 2, 2, 15.2, 1968, 140.8, 5.0, 0.0, 17.74],\n",
              "       [6, 5, 2012, 75000, 4, 1, 1, 21.1, 814, 55.2, 5.0, 0.0, 2.35],\n",
              "       [7, 6, 2013, 86999, 2, 1, 1, 23.08, 1461, 63.1, 5.0, 0.0, 3.5],\n",
              "       [8, 1, 2016, 36000, 2, 2, 1, 11.36, 2755, 171.5, 8.0, 21.0, 17.5],\n",
              "       [9, 2, 2013, 64430, 2, 1, 1, 20.54, 1598, 103.6, 5.0, 0.0, 5.2],\n",
              "       [10, 3, 2012, 65932, 2, 1, 2, 22.3, 1248, 74.0, 5.0, 0.0, 1.95]],\n",
              "      dtype=object)"
            ]
          },
          "metadata": {
            "tags": []
          },
          "execution_count": 118
        }
      ]
    },
    {
      "cell_type": "code",
      "metadata": {
        "id": "SfY2jH5C6IHw",
        "colab_type": "code",
        "colab": {}
      },
      "source": [
        "import numpy as np\n",
        "from sklearn.preprocessing import MinMaxScaler\n",
        "X = np.array(df, dtype=object)"
      ],
      "execution_count": 0,
      "outputs": []
    },
    {
      "cell_type": "code",
      "metadata": {
        "id": "X3Q5xOXJBy0P",
        "colab_type": "code",
        "colab": {}
      },
      "source": [
        "X_train = X[:,0:12]\n",
        "y_train = X[:,12]\n",
        "scaler = MinMaxScaler(feature_range=(0,1))\n",
        "scaled_X_train = scaler.fit_transform((X_train))"
      ],
      "execution_count": 0,
      "outputs": []
    },
    {
      "cell_type": "code",
      "metadata": {
        "id": "9drj2U0oB-wW",
        "colab_type": "code",
        "colab": {
          "base_uri": "https://localhost:8080/",
          "height": 34
        },
        "outputId": "0295c3e3-a632-4498-b6d7-c7eb3de56451"
      },
      "source": [
        "from keras.models import Sequential\n",
        "from keras.layers import Dense, LSTM, Dropout,BatchNormalization"
      ],
      "execution_count": 157,
      "outputs": [
        {
          "output_type": "stream",
          "text": [
            "Using TensorFlow backend.\n"
          ],
          "name": "stderr"
        }
      ]
    },
    {
      "cell_type": "code",
      "metadata": {
        "id": "SFKuLYHfGax7",
        "colab_type": "code",
        "colab": {}
      },
      "source": [
        "model = Sequential()\n",
        "model.add(Dense(500,input_dim=12,kernel_initializer = 'normal',activation='relu'))\n",
        "model.add(Dropout(0.3))\n",
        "model.add(Dense(300,kernel_initializer = 'normal',activation='relu'))\n",
        "model.add(Dropout(0.2))\n",
        "model.add(Dense(100,kernel_initializer = 'normal',activation='relu'))\n",
        "model.add(Dropout(0.2))\n",
        "model.add(Dense(60,kernel_initializer = 'normal',activation='relu'))\n",
        "model.add(Dense(30,kernel_initializer = 'normal',activation='relu'))\n",
        "model.add(Dense(10,kernel_initializer = 'normal',activation='relu'))\n",
        "model.add(Dense(5,kernel_initializer = 'normal',activation='relu'))\n",
        "model.add(Dense(1, activation='linear'))"
      ],
      "execution_count": 0,
      "outputs": []
    },
    {
      "cell_type": "code",
      "metadata": {
        "id": "lkCVg5gkJfqs",
        "colab_type": "code",
        "colab": {}
      },
      "source": [
        "model.compile(loss='mse', optimizer='adam', metrics=['accuracy'])"
      ],
      "execution_count": 0,
      "outputs": []
    },
    {
      "cell_type": "code",
      "metadata": {
        "id": "TgmCG72NKoxO",
        "colab_type": "code",
        "colab": {
          "base_uri": "https://localhost:8080/",
          "height": 1000
        },
        "outputId": "1245731f-4619-4036-c2e6-a6ef35d0f8f8"
      },
      "source": [
        "model.fit(scaled_X_train,y_train,validation_split=0.1,batch_size=10,epochs = 100,shuffle=True,verbose=2)"
      ],
      "execution_count": 171,
      "outputs": [
        {
          "output_type": "stream",
          "text": [
            "Train on 5417 samples, validate on 602 samples\n",
            "Epoch 1/100\n",
            " - 6s - loss: 75.0183 - acc: 0.0085 - val_loss: 44.0353 - val_acc: 0.0050\n",
            "Epoch 2/100\n",
            " - 5s - loss: 37.8161 - acc: 0.0153 - val_loss: 30.1527 - val_acc: 0.0166\n",
            "Epoch 3/100\n",
            " - 5s - loss: 30.1163 - acc: 0.0162 - val_loss: 24.0042 - val_acc: 0.0150\n",
            "Epoch 4/100\n",
            " - 5s - loss: 29.2799 - acc: 0.0157 - val_loss: 22.6999 - val_acc: 0.0150\n",
            "Epoch 5/100\n",
            " - 5s - loss: 27.9299 - acc: 0.0172 - val_loss: 23.4788 - val_acc: 0.0166\n",
            "Epoch 6/100\n",
            " - 5s - loss: 28.1417 - acc: 0.0179 - val_loss: 22.3272 - val_acc: 0.0266\n",
            "Epoch 7/100\n",
            " - 5s - loss: 26.9468 - acc: 0.0199 - val_loss: 18.9620 - val_acc: 0.0216\n",
            "Epoch 8/100\n",
            " - 5s - loss: 25.0323 - acc: 0.0196 - val_loss: 21.9620 - val_acc: 0.0316\n",
            "Epoch 9/100\n",
            " - 5s - loss: 25.6185 - acc: 0.0183 - val_loss: 24.2154 - val_acc: 0.0299\n",
            "Epoch 10/100\n",
            " - 5s - loss: 25.1835 - acc: 0.0181 - val_loss: 18.7401 - val_acc: 0.0233\n",
            "Epoch 11/100\n",
            " - 5s - loss: 24.2758 - acc: 0.0196 - val_loss: 19.8685 - val_acc: 0.0249\n",
            "Epoch 12/100\n",
            " - 5s - loss: 23.9238 - acc: 0.0157 - val_loss: 18.5229 - val_acc: 0.0216\n",
            "Epoch 13/100\n",
            " - 5s - loss: 23.3466 - acc: 0.0207 - val_loss: 16.0624 - val_acc: 0.0216\n",
            "Epoch 14/100\n",
            " - 5s - loss: 24.7418 - acc: 0.0198 - val_loss: 18.9471 - val_acc: 0.0282\n",
            "Epoch 15/100\n",
            " - 5s - loss: 22.6028 - acc: 0.0190 - val_loss: 19.5582 - val_acc: 0.0249\n",
            "Epoch 16/100\n",
            " - 5s - loss: 22.0579 - acc: 0.0157 - val_loss: 19.3071 - val_acc: 0.0233\n",
            "Epoch 17/100\n",
            " - 5s - loss: 23.1028 - acc: 0.0188 - val_loss: 14.8775 - val_acc: 0.0199\n",
            "Epoch 18/100\n",
            " - 5s - loss: 23.4235 - acc: 0.0194 - val_loss: 16.4823 - val_acc: 0.0216\n",
            "Epoch 19/100\n",
            " - 5s - loss: 22.9810 - acc: 0.0183 - val_loss: 19.9915 - val_acc: 0.0199\n",
            "Epoch 20/100\n",
            " - 5s - loss: 24.1059 - acc: 0.0203 - val_loss: 16.6994 - val_acc: 0.0150\n",
            "Epoch 21/100\n",
            " - 5s - loss: 21.9824 - acc: 0.0183 - val_loss: 17.0664 - val_acc: 0.0249\n",
            "Epoch 22/100\n",
            " - 5s - loss: 22.2325 - acc: 0.0185 - val_loss: 16.7721 - val_acc: 0.0266\n",
            "Epoch 23/100\n",
            " - 5s - loss: 22.4023 - acc: 0.0188 - val_loss: 16.2270 - val_acc: 0.0183\n",
            "Epoch 24/100\n",
            " - 4s - loss: 20.7732 - acc: 0.0192 - val_loss: 17.6716 - val_acc: 0.0299\n",
            "Epoch 25/100\n",
            " - 4s - loss: 21.0131 - acc: 0.0209 - val_loss: 17.3414 - val_acc: 0.0282\n",
            "Epoch 26/100\n",
            " - 4s - loss: 22.1164 - acc: 0.0172 - val_loss: 18.0264 - val_acc: 0.0166\n",
            "Epoch 27/100\n",
            " - 3s - loss: 20.5685 - acc: 0.0198 - val_loss: 16.7000 - val_acc: 0.0299\n",
            "Epoch 28/100\n",
            " - 3s - loss: 20.6359 - acc: 0.0179 - val_loss: 21.4634 - val_acc: 0.0166\n",
            "Epoch 29/100\n",
            " - 3s - loss: 21.6378 - acc: 0.0194 - val_loss: 15.5834 - val_acc: 0.0183\n",
            "Epoch 30/100\n",
            " - 3s - loss: 19.9859 - acc: 0.0227 - val_loss: 15.5240 - val_acc: 0.0133\n",
            "Epoch 31/100\n",
            " - 3s - loss: 20.4460 - acc: 0.0199 - val_loss: 16.2735 - val_acc: 0.0233\n",
            "Epoch 32/100\n",
            " - 3s - loss: 21.2800 - acc: 0.0188 - val_loss: 15.6617 - val_acc: 0.0249\n",
            "Epoch 33/100\n",
            " - 3s - loss: 22.7482 - acc: 0.0199 - val_loss: 16.1819 - val_acc: 0.0282\n",
            "Epoch 34/100\n",
            " - 3s - loss: 20.3019 - acc: 0.0192 - val_loss: 15.8716 - val_acc: 0.0266\n",
            "Epoch 35/100\n",
            " - 3s - loss: 20.5779 - acc: 0.0168 - val_loss: 21.8043 - val_acc: 0.0316\n",
            "Epoch 36/100\n",
            " - 3s - loss: 21.1399 - acc: 0.0185 - val_loss: 17.4745 - val_acc: 0.0249\n",
            "Epoch 37/100\n",
            " - 3s - loss: 20.8080 - acc: 0.0227 - val_loss: 16.0597 - val_acc: 0.0282\n",
            "Epoch 38/100\n",
            " - 3s - loss: 19.4930 - acc: 0.0196 - val_loss: 17.1109 - val_acc: 0.0183\n",
            "Epoch 39/100\n",
            " - 3s - loss: 19.0103 - acc: 0.0222 - val_loss: 21.6580 - val_acc: 0.0199\n",
            "Epoch 40/100\n",
            " - 3s - loss: 20.2221 - acc: 0.0220 - val_loss: 32.6682 - val_acc: 0.0116\n",
            "Epoch 41/100\n",
            " - 3s - loss: 20.7905 - acc: 0.0198 - val_loss: 16.2634 - val_acc: 0.0249\n",
            "Epoch 42/100\n",
            " - 3s - loss: 19.4333 - acc: 0.0220 - val_loss: 16.2059 - val_acc: 0.0216\n",
            "Epoch 43/100\n",
            " - 3s - loss: 19.9063 - acc: 0.0212 - val_loss: 14.9135 - val_acc: 0.0233\n",
            "Epoch 44/100\n",
            " - 5s - loss: 21.4096 - acc: 0.0205 - val_loss: 23.3746 - val_acc: 0.0249\n",
            "Epoch 45/100\n",
            " - 4s - loss: 21.8050 - acc: 0.0209 - val_loss: 15.2989 - val_acc: 0.0282\n",
            "Epoch 46/100\n",
            " - 4s - loss: 20.7889 - acc: 0.0205 - val_loss: 15.9113 - val_acc: 0.0249\n",
            "Epoch 47/100\n",
            " - 4s - loss: 19.5966 - acc: 0.0174 - val_loss: 15.1966 - val_acc: 0.0249\n",
            "Epoch 48/100\n",
            " - 4s - loss: 19.6068 - acc: 0.0183 - val_loss: 15.7036 - val_acc: 0.0199\n",
            "Epoch 49/100\n",
            " - 3s - loss: 20.2807 - acc: 0.0190 - val_loss: 16.9813 - val_acc: 0.0216\n",
            "Epoch 50/100\n",
            " - 3s - loss: 19.8362 - acc: 0.0170 - val_loss: 15.2315 - val_acc: 0.0116\n",
            "Epoch 51/100\n",
            " - 4s - loss: 19.1013 - acc: 0.0188 - val_loss: 14.4627 - val_acc: 0.0249\n",
            "Epoch 52/100\n",
            " - 5s - loss: 20.0112 - acc: 0.0194 - val_loss: 15.8364 - val_acc: 0.0233\n",
            "Epoch 53/100\n",
            " - 5s - loss: 19.5864 - acc: 0.0244 - val_loss: 16.2204 - val_acc: 0.0249\n",
            "Epoch 54/100\n",
            " - 5s - loss: 19.4292 - acc: 0.0210 - val_loss: 15.7234 - val_acc: 0.0199\n",
            "Epoch 55/100\n",
            " - 5s - loss: 19.0807 - acc: 0.0198 - val_loss: 16.3402 - val_acc: 0.0233\n",
            "Epoch 56/100\n",
            " - 4s - loss: 20.5853 - acc: 0.0214 - val_loss: 17.2538 - val_acc: 0.0282\n",
            "Epoch 57/100\n",
            " - 5s - loss: 20.2818 - acc: 0.0209 - val_loss: 17.1289 - val_acc: 0.0282\n",
            "Epoch 58/100\n",
            " - 5s - loss: 19.0016 - acc: 0.0201 - val_loss: 14.2400 - val_acc: 0.0183\n",
            "Epoch 59/100\n",
            " - 5s - loss: 19.5316 - acc: 0.0190 - val_loss: 14.8160 - val_acc: 0.0233\n",
            "Epoch 60/100\n",
            " - 5s - loss: 21.6387 - acc: 0.0186 - val_loss: 24.1075 - val_acc: 0.0349\n",
            "Epoch 61/100\n",
            " - 5s - loss: 19.2351 - acc: 0.0210 - val_loss: 16.7636 - val_acc: 0.0266\n",
            "Epoch 62/100\n",
            " - 4s - loss: 18.1490 - acc: 0.0227 - val_loss: 15.7146 - val_acc: 0.0316\n",
            "Epoch 63/100\n",
            " - 4s - loss: 19.1584 - acc: 0.0198 - val_loss: 15.5211 - val_acc: 0.0216\n",
            "Epoch 64/100\n",
            " - 4s - loss: 19.3138 - acc: 0.0198 - val_loss: 15.3167 - val_acc: 0.0216\n",
            "Epoch 65/100\n",
            " - 4s - loss: 19.5301 - acc: 0.0194 - val_loss: 17.0544 - val_acc: 0.0282\n",
            "Epoch 66/100\n",
            " - 4s - loss: 19.4502 - acc: 0.0186 - val_loss: 15.4077 - val_acc: 0.0216\n",
            "Epoch 67/100\n",
            " - 4s - loss: 18.8332 - acc: 0.0220 - val_loss: 16.6717 - val_acc: 0.0266\n",
            "Epoch 68/100\n",
            " - 4s - loss: 18.1518 - acc: 0.0190 - val_loss: 18.7752 - val_acc: 0.0233\n",
            "Epoch 69/100\n",
            " - 4s - loss: 19.4786 - acc: 0.0212 - val_loss: 19.2176 - val_acc: 0.0266\n",
            "Epoch 70/100\n",
            " - 4s - loss: 19.6225 - acc: 0.0212 - val_loss: 21.8037 - val_acc: 0.0282\n",
            "Epoch 71/100\n",
            " - 4s - loss: 17.7448 - acc: 0.0218 - val_loss: 16.0269 - val_acc: 0.0216\n",
            "Epoch 72/100\n",
            " - 4s - loss: 17.6699 - acc: 0.0192 - val_loss: 20.5646 - val_acc: 0.0233\n",
            "Epoch 73/100\n",
            " - 4s - loss: 20.3089 - acc: 0.0212 - val_loss: 16.6525 - val_acc: 0.0183\n",
            "Epoch 74/100\n",
            " - 4s - loss: 18.4326 - acc: 0.0257 - val_loss: 16.1866 - val_acc: 0.0282\n",
            "Epoch 75/100\n",
            " - 4s - loss: 19.3830 - acc: 0.0207 - val_loss: 19.0569 - val_acc: 0.0299\n",
            "Epoch 76/100\n",
            " - 4s - loss: 18.5662 - acc: 0.0185 - val_loss: 15.3264 - val_acc: 0.0216\n",
            "Epoch 77/100\n",
            " - 4s - loss: 18.0931 - acc: 0.0216 - val_loss: 15.0653 - val_acc: 0.0199\n",
            "Epoch 78/100\n",
            " - 5s - loss: 18.7579 - acc: 0.0186 - val_loss: 15.0354 - val_acc: 0.0266\n",
            "Epoch 79/100\n",
            " - 5s - loss: 19.0283 - acc: 0.0170 - val_loss: 13.8868 - val_acc: 0.0233\n",
            "Epoch 80/100\n",
            " - 5s - loss: 19.6359 - acc: 0.0192 - val_loss: 15.1121 - val_acc: 0.0266\n",
            "Epoch 81/100\n",
            " - 5s - loss: 19.7669 - acc: 0.0183 - val_loss: 20.0262 - val_acc: 0.0216\n",
            "Epoch 82/100\n",
            " - 5s - loss: 19.2082 - acc: 0.0205 - val_loss: 18.2616 - val_acc: 0.0233\n",
            "Epoch 83/100\n",
            " - 5s - loss: 20.0709 - acc: 0.0214 - val_loss: 18.1073 - val_acc: 0.0199\n",
            "Epoch 84/100\n",
            " - 5s - loss: 17.7831 - acc: 0.0192 - val_loss: 14.0602 - val_acc: 0.0199\n",
            "Epoch 85/100\n",
            " - 5s - loss: 18.5535 - acc: 0.0198 - val_loss: 15.8745 - val_acc: 0.0282\n",
            "Epoch 86/100\n",
            " - 5s - loss: 18.9898 - acc: 0.0225 - val_loss: 31.3155 - val_acc: 0.0249\n",
            "Epoch 87/100\n",
            " - 5s - loss: 19.1139 - acc: 0.0212 - val_loss: 21.2084 - val_acc: 0.0266\n",
            "Epoch 88/100\n",
            " - 5s - loss: 18.1936 - acc: 0.0196 - val_loss: 16.1820 - val_acc: 0.0233\n",
            "Epoch 89/100\n",
            " - 5s - loss: 17.8474 - acc: 0.0199 - val_loss: 16.2762 - val_acc: 0.0183\n",
            "Epoch 90/100\n",
            " - 5s - loss: 18.4686 - acc: 0.0203 - val_loss: 17.0845 - val_acc: 0.0249\n",
            "Epoch 91/100\n",
            " - 5s - loss: 17.7682 - acc: 0.0209 - val_loss: 15.6763 - val_acc: 0.0249\n",
            "Epoch 92/100\n",
            " - 5s - loss: 18.7657 - acc: 0.0214 - val_loss: 15.8089 - val_acc: 0.0349\n",
            "Epoch 93/100\n",
            " - 5s - loss: 17.3228 - acc: 0.0209 - val_loss: 13.9539 - val_acc: 0.0233\n",
            "Epoch 94/100\n",
            " - 5s - loss: 18.0635 - acc: 0.0212 - val_loss: 14.4005 - val_acc: 0.0249\n",
            "Epoch 95/100\n",
            " - 5s - loss: 19.0874 - acc: 0.0223 - val_loss: 14.4881 - val_acc: 0.0282\n",
            "Epoch 96/100\n",
            " - 5s - loss: 16.6637 - acc: 0.0203 - val_loss: 15.0777 - val_acc: 0.0249\n",
            "Epoch 97/100\n",
            " - 5s - loss: 18.1112 - acc: 0.0190 - val_loss: 20.0600 - val_acc: 0.0299\n",
            "Epoch 98/100\n",
            " - 5s - loss: 18.6316 - acc: 0.0194 - val_loss: 17.4134 - val_acc: 0.0216\n",
            "Epoch 99/100\n",
            " - 5s - loss: 18.6422 - acc: 0.0205 - val_loss: 14.0200 - val_acc: 0.0199\n",
            "Epoch 100/100\n",
            " - 5s - loss: 17.5238 - acc: 0.0229 - val_loss: 19.4430 - val_acc: 0.0282\n"
          ],
          "name": "stdout"
        },
        {
          "output_type": "execute_result",
          "data": {
            "text/plain": [
              "<keras.callbacks.History at 0x7fb9bf18d048>"
            ]
          },
          "metadata": {
            "tags": []
          },
          "execution_count": 171
        }
      ]
    },
    {
      "cell_type": "code",
      "metadata": {
        "id": "XSg9O0RgLxyG",
        "colab_type": "code",
        "colab": {
          "base_uri": "https://localhost:8080/",
          "height": 34
        },
        "outputId": "4a622a86-df3d-4715-c17d-40a69578e34f"
      },
      "source": [
        "test = pd.read_excel('Participants_Data_Used_Cars/Data_Test.xlsx')\n",
        "test = test.fillna(0)\n",
        "for i in range(len(test.values[:])):\n",
        "  mileage = test.iloc[i,7]\n",
        "  if mileage != 0.0:\n",
        "    mileage = mileage.replace(\"kmpl\",\"\")\n",
        "    mileage = mileage.replace(\"km/kg\",\"\")\n",
        "  test.iat[i,7] = float(mileage)\n",
        "  engine = test.iloc[i,8]\n",
        "  if engine != 0:\n",
        "    engine = engine.replace(\"CC\",\"\")\n",
        "  test.iat[i,8] = int(engine)\n",
        "  power = test.iloc[i,9]\n",
        "  if power != 0:\n",
        "    power = power.replace(\"bhp\",\"\")\n",
        "  try:\n",
        "    test.iat[i,9] = float(power)\n",
        "  except:\n",
        "    power = 0.0\n",
        "    test.iat[i,9] = power\n",
        "  np = test.iloc[i,11]\n",
        "  if np != 0:\n",
        "    np = np.replace(\"Lakh\",\"\")\n",
        "    np = np.replace(\"Cr\",\"\")\n",
        "  test.iat[i,11] = float(np)\n",
        "m=1\n",
        "for i in range(len(test.values[:])):\n",
        "  c0 = test.iloc[i,0]\n",
        "  if c0 in c[0].keys():\n",
        "    test.iat[i,0] = c[0][c0]\n",
        "  else:\n",
        "    test.iat[i,0] = max(c[0].values())+m\n",
        "  c1 = test.iloc[i,1]\n",
        "  if c1 in c[1].keys():\n",
        "    test.iat[i,1] = c[1][c1]  \n",
        "  c4 = test.iloc[i,4]\n",
        "  if c4 in c[4].keys():\n",
        "    test.iat[i,4] = c[4][c4]  \n",
        "  c5 = test.iloc[i,5]\n",
        "  if c5 in c[5].keys():\n",
        "    test.iat[i,5] = c[5][c5]  \n",
        "  c6 = test.iloc[i,6]\n",
        "  if c6 in c[6].keys():\n",
        "    test.iat[i,6] = c[6][c6]  \n",
        "  \n",
        "print(test.values[2,0])\n"
      ],
      "execution_count": 185,
      "outputs": [
        {
          "output_type": "stream",
          "text": [
            "1877\n"
          ],
          "name": "stdout"
        }
      ]
    },
    {
      "cell_type": "code",
      "metadata": {
        "id": "JuCpH6GYQ04U",
        "colab_type": "code",
        "colab": {}
      },
      "source": [
        "import numpy as np\n",
        "X_test = np.array(test, dtype=object)\n",
        "scaled_X_test = scaler.fit_transform((X_test))"
      ],
      "execution_count": 0,
      "outputs": []
    },
    {
      "cell_type": "code",
      "metadata": {
        "id": "y3IWP-DSRg7J",
        "colab_type": "code",
        "colab": {}
      },
      "source": [
        "prediction = model.predict(scaled_X_test)"
      ],
      "execution_count": 0,
      "outputs": []
    },
    {
      "cell_type": "code",
      "metadata": {
        "id": "02omh4y8RwaE",
        "colab_type": "code",
        "colab": {}
      },
      "source": [
        "output = []\n",
        "output = prediction.tolist()"
      ],
      "execution_count": 0,
      "outputs": []
    },
    {
      "cell_type": "code",
      "metadata": {
        "id": "31x_9hs_Tzwc",
        "colab_type": "code",
        "colab": {}
      },
      "source": [
        "import csv\n",
        "with open('sub.csv', 'w') as csvFile:\n",
        "    writer = csv.writer(csvFile)\n",
        "    writer.writerow(['Price'])\n",
        "csvFile.close()\n",
        "with open('sub.csv', 'a') as csvFile:\n",
        "    writer = csv.writer(csvFile)\n",
        "    writer.writerows(output)\n",
        "csvFile.close()"
      ],
      "execution_count": 0,
      "outputs": []
    },
    {
      "cell_type": "code",
      "metadata": {
        "id": "aD0WAzKVUKjk",
        "colab_type": "code",
        "colab": {}
      },
      "source": [
        ""
      ],
      "execution_count": 0,
      "outputs": []
    }
  ]
}